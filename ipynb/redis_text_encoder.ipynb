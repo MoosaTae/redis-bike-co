{
 "cells": [
  {
   "cell_type": "code",
   "execution_count": 1,
   "metadata": {},
   "outputs": [],
   "source": [
    "import redis\n",
    "import json\n",
    "\n",
    "import numpy as np\n",
    "import pandas as pd\n",
    "import redis\n",
    "import requests\n",
    "from redis.commands.search.field import (\n",
    "    NumericField,\n",
    "    TagField,\n",
    "    TextField,\n",
    "    VectorField,\n",
    ")\n",
    "\n",
    "from redis.commands.search.indexDefinition import IndexDefinition, IndexType\n",
    "from redis.commands.search.query import Query"
   ]
  },
  {
   "cell_type": "code",
   "execution_count": 2,
   "metadata": {},
   "outputs": [],
   "source": [
    "TEXT_KEY_NAME = \"text\"\n",
    "EMBEDDING_KEY_NAME = \"embedding\"\n",
    "TEXT_INDEX_NAME = \"idx:text\"\n",
    "\n",
    "PREFIX_INDEX_KEY = TEXT_KEY_NAME + \":\"\n",
    "VECTOR_DIMENSION = 384"
   ]
  },
  {
   "cell_type": "code",
   "execution_count": 3,
   "metadata": {},
   "outputs": [],
   "source": [
    "host = \"localhost\"\n",
    "port = 6379\n",
    "r = redis.Redis(host=host, port=port, db=0, decode_responses=True)"
   ]
  },
  {
   "cell_type": "code",
   "execution_count": 4,
   "metadata": {},
   "outputs": [],
   "source": [
    "data = pd.read_csv(\"../teamchadchart.csv\")\n",
    "data_json = data.to_dict(orient=\"records\")"
   ]
  },
  {
   "cell_type": "markdown",
   "metadata": {},
   "source": [
    "# experiment"
   ]
  },
  {
   "cell_type": "code",
   "execution_count": 5,
   "metadata": {},
   "outputs": [
    {
     "data": {
      "text/plain": [
       "True"
      ]
     },
     "execution_count": 5,
     "metadata": {},
     "output_type": "execute_result"
    }
   ],
   "source": [
    "r.ping()"
   ]
  },
  {
   "cell_type": "markdown",
   "metadata": {},
   "source": [
    "## add data"
   ]
  },
  {
   "cell_type": "code",
   "execution_count": 6,
   "metadata": {},
   "outputs": [],
   "source": [
    "def call_sentence_encoder(sentences: list[str]) -> list[list[float]]:\n",
    "    return np.random.rand(len(sentences), 384)\n",
    "\n",
    "def replace_nan_with_empty_string(obj):\n",
    "    if isinstance(obj, dict):\n",
    "        for key, value in obj.items():\n",
    "            obj[key] = replace_nan_with_empty_string(value)\n",
    "    elif isinstance(obj, list):\n",
    "        for i in range(len(obj)):\n",
    "            obj[i] = replace_nan_with_empty_string(obj[i])\n",
    "    elif isinstance(obj, float) and np.isnan(obj):\n",
    "        return \"\"\n",
    "    return obj\n",
    "\n",
    "def preprocess_prompt_dict(data : dict) -> str:\n",
    "    data['type'] = data['type'].strip('{}')\n",
    "    data['type'] = \"ไม่มีชนิด\" if data['type'] == \"\" else data['type']\n",
    "    \n",
    "    data['comment'] = data['comment'].replace('ปัญหา:', '')\n",
    "    return data['type'] + ' ' + data['comment']\n",
    "\n",
    "def preprocess_raw_data(data : dict) -> dict:\n",
    "    data = {k : v if v is not None else \"\" for k, v in data.items()}\n",
    "    data = replace_nan_with_empty_string(data)\n",
    "    \n",
    "    return data\n",
    "\n",
    "def preprocess_and_store_data(data):\n",
    "    preprocess_prompt = preprocess_prompt_dict(data)\n",
    "    data = preprocess_raw_data(data)\n",
    "\n",
    "    data_key = f\"{TEXT_KEY_NAME}:{data['ticket_id']}\"\n",
    "    pipeline = r.pipeline(transaction = False)\n",
    "    preprocess_prompt = {\n",
    "        \"raw_data\" : data,\n",
    "        \"preprocess_prompt\" : preprocess_prompt\n",
    "    }\n",
    "    # r.set(data_key, preprocess_prompt)\n",
    "    pipeline.json().set(data_key, '$', preprocess_prompt)\n",
    "    \n",
    "    pipeline.execute()\n",
    "\n",
    "\n",
    "def store_embeddings(key, embeddings):\n",
    "    pipeline = r.pipeline(transaction = False)\n",
    "    for embedding in embeddings:\n",
    "        pipeline.json().set(key, '$', embedding)\n",
    "    pipeline.execute()\n",
    "\n",
    "def add_data(data : dict):\n",
    "    preprocess_and_store_data(data)\n",
    "\n",
    "def batch_add_data(data : list[dict]):\n",
    "    # preprocess_strs = []\n",
    "    for d in data:\n",
    "        preprocess_and_store_data(d)\n",
    "        # preprocess_strs.append(preprocess_prompt_dict(d))\n",
    "\n",
    "def clear_database():\n",
    "    \"\"\"Clear the Redis database.\"\"\"\n",
    "    r.flushall()"
   ]
  },
  {
   "cell_type": "code",
   "execution_count": 9,
   "metadata": {},
   "outputs": [],
   "source": [
    "## utility functions\n",
    "\n",
    "def list_all_keys():\n",
    "    \"\"\"List all keys in the Redis database.\"\"\"\n",
    "    return r.keys('*')\n",
    "\n",
    "def get_value_by_key(key):\n",
    "    \"\"\"Get the value of a given key.\"\"\"\n",
    "    value = r.get(key)\n",
    "    try:\n",
    "        return json.loads(value)\n",
    "    except TypeError:\n",
    "        return value\n",
    "    except json.JSONDecodeError:\n",
    "        # If the value is not JSON, return as is\n",
    "        return value"
   ]
  },
  {
   "cell_type": "code",
   "execution_count": 10,
   "metadata": {},
   "outputs": [
    {
     "data": {
      "text/plain": [
       "'ถนน บริเวณแยกสุขสวัสดิ์30 ตัดถนนจอมทองบูรณะ รบกวนช่วยปรับปรุงพื้นถนน ด้วยเถอะค่ะ ถนนขรุขระมาก ส่งเรื่องไปหลายรอบมากแล้วค่ะ'"
      ]
     },
     "execution_count": 10,
     "metadata": {},
     "output_type": "execute_result"
    }
   ],
   "source": [
    "mooc_data = data_json[0]\n",
    "mooc_data = preprocess_prompt_dict(mooc_data)\n",
    "mooc_data"
   ]
  },
  {
   "cell_type": "code",
   "execution_count": 11,
   "metadata": {},
   "outputs": [],
   "source": [
    "# add_data(data_json[0])\n",
    "batch_add_data(data_json[:20])"
   ]
  },
  {
   "cell_type": "code",
   "execution_count": 28,
   "metadata": {},
   "outputs": [],
   "source": [
    "clear_database()\n",
    "batch_add_data(data_json[:20])"
   ]
  },
  {
   "cell_type": "code",
   "execution_count": 29,
   "metadata": {},
   "outputs": [
    {
     "name": "stdout",
     "output_type": "stream",
     "text": [
      "Keys:  ['text:2024-NCMNHC', 'text:2024-H784KZ', 'text:UTPTLA', 'text:2024-CV9GTR', 'text:2024-C8P93Y', 'text:2024-F8Z2WV', 'text:2024-HY7MUX', 'text:2024-B9Q3RR', 'text:BCBJ2N', 'text:2024-6C9QTZ']\n"
     ]
    }
   ],
   "source": [
    "keys = list_all_keys()[:10]\n",
    "print(\"Keys: \", keys)"
   ]
  },
  {
   "cell_type": "code",
   "execution_count": 15,
   "metadata": {},
   "outputs": [],
   "source": [
    "test = r.json().get(\"text:2024-76FLN7\")\n",
    "test"
   ]
  },
  {
   "cell_type": "markdown",
   "metadata": {},
   "source": [
    "## Generate embeddings"
   ]
  },
  {
   "cell_type": "code",
   "execution_count": 12,
   "metadata": {},
   "outputs": [
    {
     "data": {
      "text/plain": [
       "20"
      ]
     },
     "execution_count": 12,
     "metadata": {},
     "output_type": "execute_result"
    }
   ],
   "source": [
    "keys = sorted(r.keys(f'{TEXT_KEY_NAME}:*'))\n",
    "len(keys)"
   ]
  },
  {
   "cell_type": "code",
   "execution_count": 13,
   "metadata": {},
   "outputs": [
    {
     "name": "stdout",
     "output_type": "stream",
     "text": [
      "(20, 384)\n"
     ]
    },
    {
     "data": {
      "text/plain": [
       "(20, 384)"
      ]
     },
     "execution_count": 13,
     "metadata": {},
     "output_type": "execute_result"
    }
   ],
   "source": [
    "texts = r.json().mget(keys, \"$.preprocess_prompt\")\n",
    "texts = [t for sublist in texts for t in sublist]\n",
    "embeddings = call_sentence_encoder(texts)\n",
    "print(embeddings.shape)\n",
    "embeddings = embeddings.astype(np.float32).tolist()\n",
    "len(embeddings), len(embeddings[0])"
   ]
  },
  {
   "cell_type": "code",
   "execution_count": 39,
   "metadata": {},
   "outputs": [
    {
     "data": {
      "text/plain": [
       "[True,\n",
       " True,\n",
       " True,\n",
       " True,\n",
       " True,\n",
       " True,\n",
       " True,\n",
       " True,\n",
       " True,\n",
       " True,\n",
       " True,\n",
       " True,\n",
       " True,\n",
       " True,\n",
       " True,\n",
       " True,\n",
       " True,\n",
       " True,\n",
       " True,\n",
       " True]"
      ]
     },
     "execution_count": 39,
     "metadata": {},
     "output_type": "execute_result"
    }
   ],
   "source": [
    "# add embeddings to json document\n",
    "pipeline = r.pipeline(transaction=False)\n",
    "for key, embedding in zip(keys, embeddings):\n",
    "    pipeline.json().set(key, \"$.embedding\", embedding)\n",
    "\n",
    "pipeline.execute()"
   ]
  },
  {
   "cell_type": "code",
   "execution_count": 14,
   "metadata": {},
   "outputs": [],
   "source": [
    "def generate_embeddings_redis():\n",
    "    keys = sorted(r.keys(f'{TEXT_KEY_NAME}:*'))\n",
    "    texts = r.json().mget(keys, \"$.preprocess_prompt\")\n",
    "    texts = [t for sublist in texts for t in sublist]\n",
    "    embeddings = call_sentence_encoder(texts)\n",
    "    embeddings = embeddings.astype(np.float32).tolist()\n",
    "\n",
    "    pipeline = r.pipeline(transaction=False)\n",
    "    for key, embedding in zip(keys, embeddings):\n",
    "        pipeline.json().set(key, \"$.embedding\", embedding)\n",
    "\n",
    "    pipeline.execute()\n",
    "generate_embeddings_redis()"
   ]
  },
  {
   "cell_type": "code",
   "execution_count": 15,
   "metadata": {},
   "outputs": [
    {
     "name": "stdout",
     "output_type": "stream",
     "text": [
      "{\n",
      "  \"preprocess_prompt\": \"เสียงรบกวน,ร้องเรียน ร้านเหล้าเปิดเพลงเสียงดัง ผู้พักอาศัยระแวกนี้ เดือดร้อนรำคาญ ปัญหาเสียง จากร้านเหล้า และห้างยูเนี่ยนมอลล์\",\n",
      "  \"embedding\": [\n",
      "    0.34591758251190186,\n",
      "    0.7105819582939148,\n",
      "    0.4146632254123688,\n",
      "    0.6989767551422119,\n",
      "    0.10687671601772308,\n",
      "    0.30198797583580017,\n",
      "    0.5394396185874939,\n",
      "    0.07706896960735321,\n",
      "    0.6877689361572266,\n",
      "    0.5021490454673767,\n",
      "    0.8101863861083984,\n",
      "    0.6439226269721985,\n",
      "    0.4588770866394043,\n",
      "    0.9805753827095032,\n",
      "    0.2747318744659424,\n",
      "    0.913758099079132,\n",
      "    0.2124652564525604,\n",
      "    0.6432521939277649,\n",
      "    0.9467381238937378,\n",
      "    0.5528652667999268,\n",
      "    0.0608149915933609,\n",
      "    0.49660396575927734,\n",
      "    0.6200268268585205,\n",
      "    0.1819068193435669,\n",
      "    0.07745516300201416,\n",
      "    0.7528829574584961,\n",
      "    0.04148838669061661,\n",
      "    0.45489928126335144,\n",
      "    0.1428588479757309,\n",
      "    0.3673751950263977,\n",
      "    0.5104749202728271,\n",
      "    0.27080607414245605,\n",
      "    0.9953514337539672,\n",
      "    0.0645357146859169,\n",
      "    0.7249754667282104,\n",
      "    0.5263410210609436,\n",
      "    0.647854208946228,\n",
      "    0.6817587018013,\n",
      "    0.977497935295105,\n",
      "    0.7295817732810974,\n",
      "    0.48664456605911255,\n",
      "    0.7703188061714172,\n",
      "    0.09912241250276566,\n",
      "    0.5933340191841125,\n",
      "    0.9769273400306702,\n",
      "    0.7200024127960205,\n",
      "    0.4654249250888825,\n",
      "    0.45945289731025696,\n",
      "    0.27878230810165405,\n",
      "    0.12582722306251526,\n",
      "    0.257004976272583,\n",
      "    0.3915576934814453,\n",
      "    0.41281384229660034,\n",
      "    0.8041624426841736,\n",
      "    0.8668953776359558,\n",
      "    0.90658837556839,\n",
      "    0.6005967855453491,\n",
      "    0.5313037037849426,\n",
      "    0.4305186271667481,\n",
      "    0.12388371676206587,\n",
      "    0.4933689534664154,\n",
      "    0.8951826691627502,\n",
      "    0.0010841047624126077,\n",
      "    0.5135632157325745,\n",
      "    0.07260097563266754,\n",
      "    0.6094692349433899,\n",
      "    0.8246697187423706,\n",
      "    0.14007653295993805,\n",
      "    0.619047999382019,\n",
      "    0.8270847201347351,\n",
      "    0.7221952080726624,\n",
      "    0.6839446425437927,\n",
      "    0.7406574487686157,\n",
      "    0.5698999166488647,\n",
      "    0.8082476854324341,\n",
      "    0.6547457575798035,\n",
      "    0.35846012830734253,\n",
      "    0.1624404788017273,\n",
      "    0.640895426273346,\n",
      "    0.34280264377593994,\n",
      "    0.566423773765564,\n",
      "    0.6288294792175293,\n",
      "    0.6275257468223572,\n",
      "    0.41538721323013306,\n",
      "    0.9949290752410888,\n",
      "    0.44905635714530945,\n",
      "    0.5156686902046204,\n",
      "    0.4399513602256775,\n",
      "    0.716059684753418,\n",
      "    0.5230352282524109,\n",
      "    0.3510131537914276,\n",
      "    0.8164982199668884,\n",
      "    0.8215830326080322,\n",
      "    0.8727596402168274,\n",
      "    0.29574090242385864,\n",
      "    0.24958445131778717,\n",
      "    0.6653839349746704,\n",
      "    0.7200064063072205,\n",
      "    0.7813737392425537,\n",
      "    0.4281483292579651,\n",
      "    0.5881521105766296,\n",
      "    0.4917087852954865,\n",
      "    0.33563899993896484,\n",
      "    0.21632231771945953,\n",
      "    0.3169393837451935,\n",
      "    0.2754385471343994,\n",
      "    0.7152712941169739,\n",
      "    0.5231900811195374,\n",
      "    0.7198509573936462,\n",
      "    0.12518763542175293,\n",
      "    0.2111574709415436,\n",
      "    0.5134041905403137,\n",
      "    0.9199436902999878,\n",
      "    0.5114588141441345,\n",
      "    0.7165454626083374,\n",
      "    0.5636675953865051,\n",
      "    0.6142696142196655,\n",
      "    0.4396440088748932,\n",
      "    0.8507195711135864,\n",
      "    0.07774396985769272,\n",
      "    0.8290333151817322,\n",
      "    0.5273774266242981,\n",
      "    0.10969563573598862,\n",
      "    0.18072013556957245,\n",
      "    0.4566360414028168,\n",
      "    0.19515953958034515,\n",
      "    0.2548230290412903,\n",
      "    0.8006875514984131,\n",
      "    0.5046095848083496,\n",
      "    0.8155664801597595,\n",
      "    0.9905110597610474,\n",
      "    0.49664175510406494,\n",
      "    0.4704011082649231,\n",
      "    0.08965257555246353,\n",
      "    0.0674087181687355,\n",
      "    0.5880265235900879,\n",
      "    0.4229982793331146,\n",
      "    0.4696357846260071,\n",
      "    0.21227756142616272,\n",
      "    0.6427674889564514,\n",
      "    0.10617069154977798,\n",
      "    8.173912647180259e-05,\n",
      "    0.05119224265217781,\n",
      "    0.2899076044559479,\n",
      "    0.12545418739318848,\n",
      "    0.7409368753433228,\n",
      "    0.1958674192428589,\n",
      "    0.3515353202819824,\n",
      "    0.11057937890291214,\n",
      "    0.46313589811325073,\n",
      "    0.4388234317302704,\n",
      "    0.16339874267578125,\n",
      "    0.6991946697235107,\n",
      "    0.5227863192558289,\n",
      "    0.20200227200984955,\n",
      "    0.1984671056270599,\n",
      "    0.583585798740387,\n",
      "    0.6247912645339966,\n",
      "    0.3950340151786804,\n",
      "    0.8591539859771729,\n",
      "    0.06492301821708679,\n",
      "    0.5083427429199219,\n",
      "    0.6159737706184387,\n",
      "    0.110758475959301,\n",
      "    0.08730702847242355,\n",
      "    0.7023407220840454,\n",
      "    0.3045657277107239,\n",
      "    0.9499666094779968,\n",
      "    0.5276238918304443,\n",
      "    0.710528552532196,\n",
      "    0.1096888855099678,\n",
      "    0.2313659191131592,\n",
      "    0.21260689198970795,\n",
      "    0.8054451942443848,\n",
      "    0.3398669362068176,\n",
      "    0.8492759466171265,\n",
      "    0.39171797037124634,\n",
      "    0.8773677945137024,\n",
      "    0.9017783403396606,\n",
      "    0.4238506257534027,\n",
      "    0.0970863550901413,\n",
      "    0.2635645568370819,\n",
      "    0.9314213395118712,\n",
      "    0.7303962707519531,\n",
      "    0.290323406457901,\n",
      "    0.5341833829879761,\n",
      "    0.03047745861113071,\n",
      "    0.2719443142414093,\n",
      "    0.9659777283668518,\n",
      "    0.4098894000053406,\n",
      "    0.7990999221801758,\n",
      "    0.2747171223163605,\n",
      "    0.1496366709470749,\n",
      "    0.5696684718132019,\n",
      "    0.3496341109275818,\n",
      "    0.6435058116912842,\n",
      "    0.6132143139839172,\n",
      "    0.6959086060523987,\n",
      "    0.657890796661377,\n",
      "    0.7097835540771484,\n",
      "    0.2679102122783661,\n",
      "    0.8323221206665039,\n",
      "    0.12160393595695496,\n",
      "    0.4002686142921448,\n",
      "    0.9671695232391356,\n",
      "    0.7183608412742615,\n",
      "    0.6151747107505798,\n",
      "    0.7537410259246826,\n",
      "    0.8786206841468811,\n",
      "    0.5961541533470154,\n",
      "    0.18051454424858093,\n",
      "    0.9038468599319458,\n",
      "    0.421886146068573,\n",
      "    0.2852303683757782,\n",
      "    0.9579700827598572,\n",
      "    0.876340925693512,\n",
      "    0.465918242931366,\n",
      "    0.23949739336967468,\n",
      "    0.5169298052787781,\n",
      "    0.36484214663505554,\n",
      "    0.2552892863750458,\n",
      "    0.04579772800207138,\n",
      "    0.048811037093400955,\n",
      "    0.7473766803741455,\n",
      "    0.5699260830879211,\n",
      "    0.10813400894403458,\n",
      "    0.953106701374054,\n",
      "    0.5299936532974243,\n",
      "    0.1531951129436493,\n",
      "    0.547756016254425,\n",
      "    0.541137158870697,\n",
      "    0.8170003294944763,\n",
      "    0.734356164932251,\n",
      "    0.27852821350097656,\n",
      "    0.2944767475128174,\n",
      "    0.2502744197845459,\n",
      "    0.4239650368690491,\n",
      "    0.5551047325134277,\n",
      "    0.8425104022026062,\n",
      "    0.4707300662994385,\n",
      "    0.14383447170257568,\n",
      "    0.09027687460184096,\n",
      "    0.8396119475364685,\n",
      "    0.46217161417007446,\n",
      "    0.4963313043117523,\n",
      "    0.748009443283081,\n",
      "    0.5788266062736511,\n",
      "    0.3534705936908722,\n",
      "    0.2001430541276932,\n",
      "    0.0242832750082016,\n",
      "    0.4723811149597168,\n",
      "    0.17187757790088654,\n",
      "    0.33631807565689087,\n",
      "    0.9546941518783568,\n",
      "    0.2432994246482849,\n",
      "    0.6100847721099854,\n",
      "    0.9490162134170532,\n",
      "    0.9815996289253236,\n",
      "    0.1367136687040329,\n",
      "    0.19125616550445557,\n",
      "    0.6021338701248169,\n",
      "    0.6131868362426758,\n",
      "    0.12444256246089937,\n",
      "    0.9584434032440186,\n",
      "    0.8898841738700867,\n",
      "    0.343570351600647,\n",
      "    0.5699935555458069,\n",
      "    0.5205853581428528,\n",
      "    0.9722850322723388,\n",
      "    0.610273540019989,\n",
      "    0.9226341843605042,\n",
      "    0.6352435350418091,\n",
      "    0.8886396884918213,\n",
      "    0.521019697189331,\n",
      "    0.12861062586307526,\n",
      "    0.7926511764526367,\n",
      "    0.532826840877533,\n",
      "    0.8452800512313843,\n",
      "    0.1529044359922409,\n",
      "    0.4822329878807068,\n",
      "    0.943367838859558,\n",
      "    0.6536075472831726,\n",
      "    0.10902365297079086,\n",
      "    0.26536452770233154,\n",
      "    0.8569893836975098,\n",
      "    0.7178121209144592,\n",
      "    0.7164428234100342,\n",
      "    0.8426901698112488,\n",
      "    0.46668142080307007,\n",
      "    0.351796418428421,\n",
      "    0.3842448592185974,\n",
      "    0.8519078493118286,\n",
      "    0.15027251839637756,\n",
      "    0.4481033980846405,\n",
      "    0.3942893445491791,\n",
      "    0.5984996557235718,\n",
      "    0.07925881445407867,\n",
      "    0.6654700040817261,\n",
      "    0.855235755443573,\n",
      "    0.0518936887383461,\n",
      "    0.3755205273628235,\n",
      "    0.42295441031455994,\n",
      "    0.9071176052093506,\n",
      "    0.9618817567825316,\n",
      "    0.09958445280790328,\n",
      "    0.3605216145515442,\n",
      "    0.7091983556747437,\n",
      "    0.2858034670352936,\n",
      "    0.4941569864749909,\n",
      "    0.9393499493598938,\n",
      "    0.267830491065979,\n",
      "    0.20028887689113617,\n",
      "    0.6988987326622009,\n",
      "    0.24880468845367432,\n",
      "    0.9730204343795776,\n",
      "    0.9771386981010436,\n",
      "    0.7292081117630005,\n",
      "    0.09118622541427612,\n",
      "    0.08374436944723129,\n",
      "    0.9050277471542358,\n",
      "    0.1269131302833557,\n",
      "    0.11061320453882216,\n",
      "    0.2664932906627655,\n",
      "    0.9574896693229676,\n",
      "    0.5099406838417053,\n",
      "    0.673716127872467,\n",
      "    0.6440378427505493,\n",
      "    0.6426079869270325,\n",
      "    0.2094191610813141,\n",
      "    0.410553902387619,\n",
      "    0.07212299853563309,\n",
      "    0.19698432087898257,\n",
      "    0.13818936049938202,\n",
      "    0.307818204164505,\n",
      "    0.3604275584220886,\n",
      "    0.8396213054656982,\n",
      "    0.13476411998271942,\n",
      "    0.9141167998313904,\n",
      "    0.5432879328727722,\n",
      "    0.9060221910476683,\n",
      "    0.7352113127708435,\n",
      "    0.4203076958656311,\n",
      "    0.787660539150238,\n",
      "    0.04830009117722511,\n",
      "    0.9615148305892944,\n",
      "    0.4901307225227356,\n",
      "    0.4793225824832916,\n",
      "    0.34523695707321167,\n",
      "    0.325266033411026,\n",
      "    0.6806861162185669,\n",
      "    0.4151201546192169,\n",
      "    0.5544906258583069,\n",
      "    0.0314476378262043,\n",
      "    0.6562072038650513,\n",
      "    0.5926374793052673,\n",
      "    0.6443595886230469,\n",
      "    0.885541558265686,\n",
      "    0.4780484735965729,\n",
      "    0.7909029722213745,\n",
      "    0.031905271112918854,\n",
      "    0.8404282927513123,\n",
      "    0.4913997948169708,\n",
      "    0.8592655062675476,\n",
      "    0.3637196719646454,\n",
      "    0.4334200918674469,\n",
      "    0.32475903630256653,\n",
      "    0.22699706256389615,\n",
      "    0.4934152960777282,\n",
      "    0.3705482482910156,\n",
      "    0.4119341373443603,\n",
      "    0.233551025390625,\n",
      "    0.24125850200653076,\n",
      "    0.15164226293563843,\n",
      "    0.9328166842460632,\n",
      "    0.31130942702293396,\n",
      "    0.2874452769756317,\n",
      "    0.8542451858520508,\n",
      "    0.3938157260417938,\n",
      "    0.6723294854164124,\n",
      "    0.6985241770744324,\n",
      "    0.8190016150474548,\n",
      "    0.7756360769271851,\n",
      "    0.07101225107908249,\n",
      "    0.8444823622703552\n",
      "  ]\n",
      "}\n"
     ]
    }
   ],
   "source": [
    "print(json.dumps(r.json().get(keys[1]), indent=2, ensure_ascii=False))"
   ]
  },
  {
   "cell_type": "markdown",
   "metadata": {},
   "source": [
    "## Create Search Index"
   ]
  },
  {
   "cell_type": "code",
   "execution_count": 32,
   "metadata": {},
   "outputs": [
    {
     "data": {
      "text/plain": [
       "'\\nschema = (\\n    TextField(\"$.ticket_id\", as_name=\"ticket_id\"),\\n    TextField(\"$.timestamp\", as_name=\"timestamp\"),\\n    TextField(\"$.state\", as_name=\"state\"),\\n    TextField(\"$comment\", as_name=\"comment\"),\\n    TextField(\"$type\", as_name=\"type\"),\\n    TextField(\"$coords\", as_name=\"coords\"),\\n    TextField(\"$address\", as_name=\"address\"),\\n    TextField(\"$district\", as_name=\"district\"),\\n    TextField(\"$province\", as_name=\"province\"),\\n    TextField(\"$subdistrict\", as_name=\"subdistrict\"),\\n    VectorField(\\n        \"$embeddings\",\\n        \"FLAT\",\\n        {\\n            \"TYPE\": \"FLOAT32\",\\n            \"DIM\": VECTOR_DIMENSION,\\n            \"DISTANCE_METRIC\": \"COSINE\",\\n        },\\n        as_name=\"vector\",\\n    ),\\n)\\n'"
      ]
     },
     "execution_count": 32,
     "metadata": {},
     "output_type": "execute_result"
    }
   ],
   "source": [
    "'''\n",
    "schema = (\n",
    "    TextField(\"$.ticket_id\", as_name=\"ticket_id\"),\n",
    "    TextField(\"$.timestamp\", as_name=\"timestamp\"),\n",
    "    TextField(\"$.state\", as_name=\"state\"),\n",
    "    TextField(\"$comment\", as_name=\"comment\"),\n",
    "    TextField(\"$type\", as_name=\"type\"),\n",
    "    TextField(\"$coords\", as_name=\"coords\"),\n",
    "    TextField(\"$address\", as_name=\"address\"),\n",
    "    TextField(\"$district\", as_name=\"district\"),\n",
    "    TextField(\"$province\", as_name=\"province\"),\n",
    "    TextField(\"$subdistrict\", as_name=\"subdistrict\"),\n",
    "    VectorField(\n",
    "        \"$embeddings\",\n",
    "        \"FLAT\",\n",
    "        {\n",
    "            \"TYPE\": \"FLOAT32\",\n",
    "            \"DIM\": VECTOR_DIMENSION,\n",
    "            \"DISTANCE_METRIC\": \"COSINE\",\n",
    "        },\n",
    "        as_name=\"vector\",\n",
    "    ),\n",
    ")\n",
    "'''"
   ]
  },
  {
   "cell_type": "code",
   "execution_count": 30,
   "metadata": {},
   "outputs": [],
   "source": [
    "# r.flushall()\n",
    "# batch_add_data(data_json[:20])\n",
    "generate_embeddings_redis()"
   ]
  },
  {
   "cell_type": "code",
   "execution_count": 28,
   "metadata": {},
   "outputs": [],
   "source": [
    "def drop_index():\n",
    "    drop_index_command = [\"FT.DROPINDEX\", TEXT_INDEX_NAME] #, -DD] \n",
    "    r.execute_command(*drop_index_command)\n",
    "    \n",
    "def get_info_index():\n",
    "    info = r.ft(TEXT_INDEX_NAME).info()\n",
    "\n",
    "    num_docs = info['num_docs']\n",
    "    indexing_failures = info['hash_indexing_failures']\n",
    "    total_indexing_time = info['total_indexing_time']\n",
    "    percent_indexed = float(info['percent_indexed']) * 100\n",
    "\n",
    "    print(f\"{num_docs} docs ({percent_indexed}%) indexed w/ {indexing_failures} failures in {float(total_indexing_time):.2f} msecs\")"
   ]
  },
  {
   "cell_type": "code",
   "execution_count": 89,
   "metadata": {},
   "outputs": [
    {
     "data": {
      "text/plain": [
       "'OK'"
      ]
     },
     "execution_count": 89,
     "metadata": {},
     "output_type": "execute_result"
    }
   ],
   "source": [
    "try:\n",
    "    schema = (\n",
    "        TextField('$.preprocess_prompt', no_stem=True, as_name='preprocess_prompt'),\n",
    "        TextField(\"$.raw_data.state\",no_stem=True, as_name=\"state\"),\n",
    "        TextField(\"$.raw_data.comment\",no_stem=True, as_name=\"comment\"),\n",
    "        TextField(\"$.raw_data.type\",no_stem=True, as_name=\"type\"),\n",
    "        TextField(\"$.raw_data.address\",no_stem=True, as_name=\"address\"),\n",
    "        TextField(\"$.raw_data.district\",no_stem=True, as_name=\"district\"),\n",
    "        TextField(\"$.raw_data.province\",no_stem=True, as_name=\"province\"),\n",
    "        TextField(\"$.raw_data.subdistrict\",no_stem=True, as_name=\"subdistrict\"),\n",
    "        VectorField(f'$.{EMBEDDING_KEY_NAME}', 'FLAT', {\n",
    "            'TYPE': 'FLOAT32',\n",
    "            'DIM': VECTOR_DIMENSION,\n",
    "            'DISTANCE_METRIC': 'COSINE'\n",
    "        }, as_name='vector')\n",
    "    )\n",
    "except:\n",
    "    r.ft(TEXT_INDEX_NAME).info()\n",
    "    print(f\"Index {TEXT_INDEX_NAME} already exists\")\n",
    "    \n",
    "definition = IndexDefinition(prefix=[PREFIX_INDEX_KEY], index_type=IndexType.JSON)\n",
    "\n",
    "r.ft(TEXT_INDEX_NAME).create_index(fields=schema, definition=definition)"
   ]
  },
  {
   "cell_type": "code",
   "execution_count": null,
   "metadata": {},
   "outputs": [],
   "source": [
    "get_info_index()"
   ]
  },
  {
   "cell_type": "code",
   "execution_count": null,
   "metadata": {},
   "outputs": [],
   "source": [
    "drop_index()"
   ]
  },
  {
   "cell_type": "code",
   "execution_count": 92,
   "metadata": {},
   "outputs": [],
   "source": [
    "def create_index_text():\n",
    "    try:\n",
    "        schema = (\n",
    "            # TextField('$.preprocess_prompt', no_stem=True, as_name='preprocess_prompt'),\n",
    "            TextField(\"$.raw_data.state\", as_name=\"state\"),\n",
    "            TextField(\"$.raw_data.comment\", as_name=\"comment\"),\n",
    "            TextField(\"$.raw_data.type\", as_name=\"type\"),\n",
    "            TextField(\"$.raw_data.address\", as_name=\"address\"),\n",
    "            TextField(\"$.raw_data.district\", as_name=\"district\"),\n",
    "            TextField(\"$.raw_data.province\", as_name=\"province\"),\n",
    "            TextField(\"$.raw_data.subdistrict\", as_name=\"subdistrict\"),\n",
    "            VectorField(f'$.{EMBEDDING_KEY_NAME}', 'FLAT', {\n",
    "                'TYPE': 'FLOAT32',\n",
    "                'DIM': VECTOR_DIMENSION,\n",
    "                'DISTANCE_METRIC': 'COSINE'\n",
    "            }, as_name='vector')\n",
    "        )\n",
    "    except:\n",
    "        r.ft(TEXT_INDEX_NAME).info()\n",
    "        print(f\"Index {TEXT_INDEX_NAME} already exists\")\n",
    "        \n",
    "    definition = IndexDefinition(prefix=[PREFIX_INDEX_KEY], index_type=IndexType.JSON)"
   ]
  },
  {
   "cell_type": "code",
   "execution_count": 93,
   "metadata": {},
   "outputs": [
    {
     "name": "stdout",
     "output_type": "stream",
     "text": [
      "20 docs (100.0%) indexed w/ 0 failures in 3.65 msecs\n"
     ]
    }
   ],
   "source": [
    "create_index_text()"
   ]
  },
  {
   "cell_type": "code",
   "execution_count": null,
   "metadata": {},
   "outputs": [],
   "source": [
    "get_info_index()"
   ]
  },
  {
   "cell_type": "markdown",
   "metadata": {},
   "source": [
    "## Query"
   ]
  },
  {
   "cell_type": "code",
   "execution_count": 24,
   "metadata": {},
   "outputs": [],
   "source": [
    "queires = [preprocess_prompt_dict(text) for text in data_json[-10:]]\n",
    "embeddings = call_sentence_encoder(queires)"
   ]
  },
  {
   "cell_type": "code",
   "execution_count": 25,
   "metadata": {},
   "outputs": [
    {
     "data": {
      "text/plain": [
       "'\\nIn DIALECT 1, this query is interpreted as searching for (hello world | \"goodbye\") moon.\\nIn DIALECT 2 or greater, this query is interpreted as searching for either hello world OR \"goodbye\" moon.\\n'"
      ]
     },
     "execution_count": 25,
     "metadata": {},
     "output_type": "execute_result"
    }
   ],
   "source": [
    "# query = (\n",
    "#     Query('*').return_fields('preprocess_prompt', 'embedding')\n",
    "# )\n",
    "# r.ft(TEXT_INDEX_NAME).search(query)\n",
    "TOP_K = 5\n",
    "query = (\n",
    "    Query(f'(*)=>[KNN {TOP_K} @vector $query_vector AS vector_score]')\n",
    "    .sort_by('vector_score')\n",
    "    .return_fields('preprocess_prompt', 'raw_data_type', 'vector_score')\n",
    "    # should return all except embedding and preprocess_prompt\n",
    "    .dialect(2)\n",
    ")\n",
    "'''\n",
    "In DIALECT 1, this query is interpreted as searching for (hello world | \"goodbye\") moon.\n",
    "In DIALECT 2 or greater, this query is interpreted as searching for either hello world OR \"goodbye\" moon.\n",
    "'''"
   ]
  },
  {
   "cell_type": "code",
   "execution_count": null,
   "metadata": {},
   "outputs": [],
   "source": [
    "embedding = embeddings[0]\n",
    "r.ft(TEXT_INDEX_NAME).search(query, {'query_vector': np.array(embedding, dtype=np.float32).tobytes()})"
   ]
  },
  {
   "cell_type": "code",
   "execution_count": 22,
   "metadata": {},
   "outputs": [],
   "source": [
    "def query_all_embeddings(embeddings, top_k=5):\n",
    "    results_list = []\n",
    "    query = (\n",
    "        Query(f\"(*)=>[KNN {top_k} @vector $query_vector AS vector_score]\")\n",
    "        .sort_by(\"vector_score\")\n",
    "        .return_fields(\n",
    "            \"state\",\n",
    "            \"comment\",\n",
    "            \"type\",\n",
    "            \"address\",\n",
    "            \"district\",\n",
    "            \"province\",\n",
    "            \"subdistrict\",\n",
    "            \"vector_score\",\n",
    "        )\n",
    "        .dialect(2)\n",
    "    )\n",
    "    for embedding in embeddings:\n",
    "        results = (\n",
    "            r.ft(TEXT_INDEX_NAME)\n",
    "            .search(\n",
    "                query, {\"query_vector\": np.array(embedding, dtype=np.float32).tobytes()}\n",
    "            )\n",
    "            .docs\n",
    "        )\n",
    "        for result in results:\n",
    "            vector_score = round(1 - float(result.vector_score), 3)\n",
    "            results_list.append(\n",
    "                {\n",
    "                    \"vector_score\": vector_score,\n",
    "                    \"state\": result.state,\n",
    "                    \"comment\": result.comment,\n",
    "                    \"type\": result.type,\n",
    "                    \"address\": result.address,\n",
    "                    \"district\": result.district,\n",
    "                    \"province\": result.province,\n",
    "                    \"subdistrict\": result.subdistrict,\n",
    "                }\n",
    "            )\n",
    "        break\n",
    "    return results_list\n",
    "\n",
    "\n",
    "def query_all_texts(queries, top_k=5):\n",
    "    queries = [preprocess_prompt_dict(text) for text in queries]\n",
    "    embeddings = call_sentence_encoder(queries)\n",
    "    return query_all_embeddings(embeddings, top_k=top_k)"
   ]
  },
  {
   "cell_type": "code",
   "execution_count": null,
   "metadata": {},
   "outputs": [],
   "source": [
    "query_all_texts(data_json[-10:], top_k=5)"
   ]
  },
  {
   "cell_type": "markdown",
   "metadata": {},
   "source": [
    "# Final"
   ]
  },
  {
   "cell_type": "code",
   "execution_count": 5,
   "metadata": {},
   "outputs": [],
   "source": [
    "# TODO : change to use real sentence encoder\n",
    "def call_sentence_encoder(sentences: list[str]) -> list[list[float]]:\n",
    "    return np.random.rand(len(sentences), 384)\n",
    "\n",
    "def replace_nan_with_empty_string(obj):\n",
    "    if isinstance(obj, dict):\n",
    "        for key, value in obj.items():\n",
    "            obj[key] = replace_nan_with_empty_string(value)\n",
    "    elif isinstance(obj, list):\n",
    "        for i in range(len(obj)):\n",
    "            obj[i] = replace_nan_with_empty_string(obj[i])\n",
    "    elif isinstance(obj, float) and np.isnan(obj):\n",
    "        return \"\"\n",
    "    return obj\n",
    "\n",
    "def preprocess_prompt_dict(data : dict) -> str:\n",
    "    data['type'] = data['type'].strip('{}')\n",
    "    data['type'] = \"ไม่มีชนิด\" if data['type'] == \"\" else data['type']\n",
    "    \n",
    "    data['comment'] = data['comment'].replace('ปัญหา:', '')\n",
    "    return data['type'] + ' ' + data['comment']\n",
    "\n",
    "def preprocess_raw_data(data : dict) -> dict:\n",
    "    data = {k : v if v is not None else \"\" for k, v in data.items()}\n",
    "    data = replace_nan_with_empty_string(data)\n",
    "    \n",
    "    return data\n",
    "\n",
    "def preprocess_and_store_data(data):\n",
    "    data = preprocess_raw_data(data)\n",
    "    preprocess_prompt = preprocess_prompt_dict(data)\n",
    "\n",
    "    data_key = f\"{TEXT_KEY_NAME}:{data['ticket_id']}\"\n",
    "    pipeline = r.pipeline(transaction = False)\n",
    "    preprocess_prompt = {\n",
    "        \"raw_data\" : data,\n",
    "        \"preprocess_prompt\" : preprocess_prompt\n",
    "    }\n",
    "    pipeline.json().set(data_key, '$', preprocess_prompt)\n",
    "    \n",
    "    pipeline.execute()\n",
    "\n",
    "def store_embeddings(key, embeddings):\n",
    "    pipeline = r.pipeline(transaction = False)\n",
    "    for embedding in embeddings:\n",
    "        pipeline.json().set(key, '$', embedding)\n",
    "    pipeline.execute()\n",
    "\n",
    "def add_data(data : dict):\n",
    "    preprocess_and_store_data(data)\n",
    "\n",
    "def batch_add_data(data : list[dict]):\n",
    "    for d in data:\n",
    "        preprocess_and_store_data(d)"
   ]
  },
  {
   "cell_type": "code",
   "execution_count": 6,
   "metadata": {},
   "outputs": [],
   "source": [
    "def clear_database():\n",
    "    \"\"\"Clear the Redis database.\"\"\"\n",
    "    r.flushall()\n",
    "\n",
    "def drop_index():\n",
    "    drop_index_command = [\"FT.DROPINDEX\", TEXT_INDEX_NAME] #, -DD] \n",
    "    r.execute_command(*drop_index_command)\n",
    "\n",
    "#TODO : batch inference\n",
    "def generate_embeddings_redis():\n",
    "    keys = sorted(r.keys(f'{TEXT_KEY_NAME}:*'))\n",
    "    texts = r.json().mget(keys, \"$.preprocess_prompt\")\n",
    "    texts = [t for sublist in texts for t in sublist]\n",
    "    embeddings = call_sentence_encoder(texts)\n",
    "    embeddings = embeddings.astype(np.float32).tolist()\n",
    "\n",
    "    pipeline = r.pipeline(transaction=False)\n",
    "    for key, embedding in zip(keys, embeddings):\n",
    "        pipeline.json().set(key, \"$.embedding\", embedding)\n",
    "\n",
    "    pipeline.execute()"
   ]
  },
  {
   "cell_type": "code",
   "execution_count": 19,
   "metadata": {},
   "outputs": [],
   "source": [
    "def create_index_text():\n",
    "    try:\n",
    "        schema = (\n",
    "            # TextField('$.preprocess_prompt', no_stem=True, as_name='preprocess_prompt'),\n",
    "            TextField(\"$.raw_data.state\",no_stem=True, as_name=\"state\"),\n",
    "            TextField(\"$.raw_data.comment\",no_stem=True, as_name=\"comment\"),\n",
    "            TextField(\"$.raw_data.type\",no_stem=True, as_name=\"type\"),\n",
    "            TextField(\"$.raw_data.address\",no_stem=True, as_name=\"address\"),\n",
    "            TextField(\"$.raw_data.district\",no_stem=True, as_name=\"district\"),\n",
    "            TextField(\"$.raw_data.province\",no_stem=True, as_name=\"province\"),\n",
    "            TextField(\"$.raw_data.subdistrict\",no_stem=True, as_name=\"subdistrict\"),\n",
    "            VectorField(f'$.{EMBEDDING_KEY_NAME}', 'FLAT', {\n",
    "                'TYPE': 'FLOAT32',\n",
    "                'DIM': VECTOR_DIMENSION,\n",
    "                'DISTANCE_METRIC': 'COSINE'\n",
    "            }, as_name='vector')\n",
    "        )\n",
    "    except:\n",
    "        r.ft(TEXT_INDEX_NAME).info()\n",
    "        print(f\"Index {TEXT_INDEX_NAME} already exists\")\n",
    "        \n",
    "    definition = IndexDefinition(prefix=[PREFIX_INDEX_KEY], index_type=IndexType.JSON)\n",
    "\n",
    "    r.ft(TEXT_INDEX_NAME).create_index(fields=schema, definition=definition)\n",
    "\n",
    "def get_info_index():\n",
    "    info = r.ft(TEXT_INDEX_NAME).info()\n",
    "\n",
    "    num_docs = info['num_docs']\n",
    "    indexing_failures = info['hash_indexing_failures']\n",
    "    total_indexing_time = info['total_indexing_time']\n",
    "    percent_indexed = float(info['percent_indexed']) * 100\n",
    "\n",
    "    print(f\"{num_docs} docs ({percent_indexed}%) indexed w/ {indexing_failures} failures in {float(total_indexing_time):.2f} msecs\")"
   ]
  },
  {
   "cell_type": "code",
   "execution_count": 8,
   "metadata": {},
   "outputs": [],
   "source": [
    "def query_all_embeddings(embeddings, top_k=5):\n",
    "    results_list = []\n",
    "    query = (\n",
    "        Query(f\"(*)=>[KNN {top_k} @vector $query_vector AS vector_score]\")\n",
    "        .sort_by(\"vector_score\")\n",
    "        .return_fields(\n",
    "            \"state\",\n",
    "            \"comment\",\n",
    "            \"type\",\n",
    "            \"address\",\n",
    "            \"district\",\n",
    "            \"province\",\n",
    "            \"subdistrict\",\n",
    "            \"vector_score\",\n",
    "        )\n",
    "        .dialect(2)\n",
    "    )\n",
    "    for embedding in embeddings:\n",
    "        results = (\n",
    "            r.ft(TEXT_INDEX_NAME)\n",
    "            .search(\n",
    "                query, {\"query_vector\": np.array(embedding, dtype=np.float32).tobytes()}\n",
    "            )\n",
    "            .docs\n",
    "        )\n",
    "        for result in results:\n",
    "            vector_score = round(1 - float(result.vector_score), 3)\n",
    "            results_list.append(\n",
    "                {\n",
    "                    \"vector_score\": vector_score,\n",
    "                    \"state\": result.state,\n",
    "                    \"comment\": result.comment,\n",
    "                    \"type\": result.type,\n",
    "                    \"address\": result.address,\n",
    "                    \"district\": result.district,\n",
    "                    \"province\": result.province,\n",
    "                    \"subdistrict\": result.subdistrict,\n",
    "                }\n",
    "            )\n",
    "        break\n",
    "    return results_list\n",
    "\n",
    "\n",
    "def query_all_texts(queries, top_k=5):\n",
    "    queries = [preprocess_prompt_dict(text) for text in queries]\n",
    "    embeddings = call_sentence_encoder(queries)\n",
    "    return query_all_embeddings(embeddings, top_k=top_k)"
   ]
  },
  {
   "cell_type": "markdown",
   "metadata": {},
   "source": [
    "## add data part"
   ]
  },
  {
   "cell_type": "code",
   "execution_count": 10,
   "metadata": {},
   "outputs": [],
   "source": [
    "# clear entire database\n",
    "clear_database()"
   ]
  },
  {
   "cell_type": "code",
   "execution_count": 11,
   "metadata": {},
   "outputs": [],
   "source": [
    "batch_add_data(data_json)\n",
    "generate_embeddings_redis()"
   ]
  },
  {
   "cell_type": "code",
   "execution_count": 21,
   "metadata": {},
   "outputs": [],
   "source": [
    "create_index_text()"
   ]
  },
  {
   "cell_type": "code",
   "execution_count": 22,
   "metadata": {},
   "outputs": [
    {
     "name": "stdout",
     "output_type": "stream",
     "text": [
      "994 docs (100.0%) indexed w/ 0 failures in 52.02 msecs\n"
     ]
    }
   ],
   "source": [
    "get_info_index()"
   ]
  },
  {
   "cell_type": "code",
   "execution_count": 20,
   "metadata": {},
   "outputs": [],
   "source": [
    "drop_index()"
   ]
  },
  {
   "cell_type": "markdown",
   "metadata": {},
   "source": [
    "## query part"
   ]
  },
  {
   "cell_type": "code",
   "execution_count": 23,
   "metadata": {},
   "outputs": [
    {
     "data": {
      "text/plain": [
       "[{'vector_score': 0.799,\n",
       "  'state': 'กำลังดำเนินการ',\n",
       "  'comment': 'ป้ายกองโจรตรงตีนสะพานคลองบางด้วน ผิดพรบ.ความสะอาดพ.ศ.2535 ช่วยมาเก็บด่วน\\r\\n#1555 #bkkrongtook',\n",
       "  'type': 'สะพาน,ป้าย,คลอง,ความสะอาด',\n",
       "  'address': 'PCGH+286 แขวงบางด้วน เขตภาษีเจริญ กรุงเทพมหานคร 10160 ประเทศไทย',\n",
       "  'district': 'ภาษีเจริญ',\n",
       "  'province': 'กรุงเทพมหานคร',\n",
       "  'subdistrict': 'บางด้วน'},\n",
       " {'vector_score': 0.789,\n",
       "  'state': 'กำลังดำเนินการ',\n",
       "  'comment': ' ได้รับความเดือดร้อนเรื่องกลิ่นเหม็นจากบ่อน้ำเสีย พบเห็น 2-3 วันแล้ว ทำให้รบกวนการพักผ่อน\\nซอย: แสมดำ 17\\nถนน: แสมดำ\\nจุดสังเกต: ศูนย์บริการกำจัดกากอุตสาหกรรมแสมดำ\\nเขต: บางขุนเทียน\\r\\n#1555',\n",
       "  'type': 'ถนน',\n",
       "  'address': '11 ซอย แสมดำ 17 แขวงแสมดำ เขตบางขุนเทียน กรุงเทพมหานคร 10150 ประเทศไทย',\n",
       "  'district': 'บางขุนเทียน',\n",
       "  'province': 'จังหวัดกรุงเทพมหานคร',\n",
       "  'subdistrict': 'แสมดำ'},\n",
       " {'vector_score': 0.789,\n",
       "  'state': 'รอรับเรื่อง',\n",
       "  'comment': 'ร้านค้าขายของตั้ง 24 ชั่วโมง จอดรถเข็น รถมอเตอร์ไซค์กีดขวางฟุตบาทไม่มีทางให้คนเดิน อยากให้จัดการให้หน่อยครับ',\n",
       "  'type': 'กีดขวาง,ทางเท้า',\n",
       "  'address': '72 ซอยสุขุมวิท 3(นานาเหนือ) แขวงคลองเตยเหนือ เขตวัฒนา กรุงเทพมหานคร แขวง คลองเตยเหนือ เขตวัฒนา กรุงเทพมหานคร 10110 ประเทศไทย',\n",
       "  'district': 'วัฒนา',\n",
       "  'province': 'กรุงเทพมหานคร',\n",
       "  'subdistrict': 'คลองเตยเหนือ'},\n",
       " {'vector_score': 0.785,\n",
       "  'state': 'กำลังดำเนินการ',\n",
       "  'comment': 'ปัญหาพื้นผิวจราจร ไม่เรียบ เพราะผู้รับเหมาเปิดช่องพื้น แล้วปิดไม่เรียบร้อย ถนนเป็นคลื่น รถวิ่งผ่านเสียหาย ปล่อยผ่านได้ไง',\n",
       "  'type': 'ถนน',\n",
       "  'address': 'WHM9+295 แขวงสีกัน เขตดอนเมือง กรุงเทพมหานคร 10210 ประเทศไทย',\n",
       "  'district': 'ดอนเมือง',\n",
       "  'province': 'กรุงเทพมหานคร',\n",
       "  'subdistrict': 'ดอนเมือง'},\n",
       " {'vector_score': 0.783,\n",
       "  'state': 'กำลังดำเนินการ',\n",
       "  'comment': 'นี่ค่ะ  มีการเจาะซ่อมแซมดังสนั่นเลยค่ะ \\nรบกวนการพักผ่อนมากๆค่ะ  เสาร์อาทิตไม่ควรนะคะ  เวลานอนของแต่ละบ้านไม่เหมือนนะคะ',\n",
       "  'type': 'ไม่มีชนิด',\n",
       "  'address': '64/124 ซอย เพชรเกษม 54 แขวงบางด้วน เขตภาษีเจริญ กรุงเทพมหานคร 10160 ประเทศไทย',\n",
       "  'district': 'ภาษีเจริญ',\n",
       "  'province': 'กรุงเทพมหานคร',\n",
       "  'subdistrict': 'บางหว้า'}]"
      ]
     },
     "execution_count": 23,
     "metadata": {},
     "output_type": "execute_result"
    }
   ],
   "source": [
    "queries = data_json[-10:]\n",
    "results_list = query_all_texts(queries, top_k=5)\n",
    "results_list"
   ]
  },
  {
   "cell_type": "code",
   "execution_count": null,
   "metadata": {},
   "outputs": [],
   "source": []
  }
 ],
 "metadata": {
  "kernelspec": {
   "display_name": "pytorch",
   "language": "python",
   "name": "python3"
  },
  "language_info": {
   "codemirror_mode": {
    "name": "ipython",
    "version": 3
   },
   "file_extension": ".py",
   "mimetype": "text/x-python",
   "name": "python",
   "nbconvert_exporter": "python",
   "pygments_lexer": "ipython3",
   "version": "3.10.0"
  }
 },
 "nbformat": 4,
 "nbformat_minor": 2
}
